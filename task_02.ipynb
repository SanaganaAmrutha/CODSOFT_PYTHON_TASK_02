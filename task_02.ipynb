{
 "cells": [
  {
   "cell_type": "code",
   "execution_count": null,
   "id": "01e0d6c7-28c3-4c57-8f84-76fd282f6b29",
   "metadata": {
    "tags": []
   },
   "outputs": [
    {
     "name": "stdout",
     "output_type": "stream",
     "text": [
      "Simple Calculator\n",
      "Select operation:\n",
      "1. Add\n",
      "2. Subtract\n",
      "3. Multiply\n",
      "4. Divide\n"
     ]
    }
   ],
   "source": [
    "print(\"Simple Calculator\")\n",
    "print(\"Select operation:\")\n",
    "print(\"1. Add\")\n",
    "print(\"2. Subtract\")\n",
    "print(\"3. Multiply\")\n",
    "print(\"4. Divide\")\n",
    "\n",
    "choice = input(\"Enter your choice here (1/2/3/4): \")\n",
    "\n",
    "if choice in ('1', '2', '3', '4'):\n",
    "    num1 = float(input(\"Enter first number: \"))\n",
    "    num2 = float(input(\"Enter second number: \"))\n",
    "\n",
    "    if choice == '1':\n",
    "        result = num1 + num2\n",
    "        operation = \"Addition\"\n",
    "    elif choice == '2':\n",
    "        result = num1 - num2\n",
    "        operation = \"Subtraction\"\n",
    "    elif choice == '3':\n",
    "        result = num1 * num2\n",
    "        operation = \"Multiplication\"\n",
    "    elif choice == '4':\n",
    "        if num2 != 0:\n",
    "            result = num1 / num2\n",
    "            operation = \"Division\"\n",
    "        else:\n",
    "            result = \"undefined (cannot divide by zero)\"\n",
    "            operation = \"Division\"\n",
    "else:\n",
    "    result = \"Invalid input given\"\n",
    "    operation = \"Invalid\"\n",
    "\n",
    "print(f\"Operation: {operation}\")\n",
    "print(f\"Result: {result}\")\n"
   ]
  },
  {
   "cell_type": "code",
   "execution_count": null,
   "id": "1c102d8c-076f-4d62-9c25-4a5805c964b1",
   "metadata": {},
   "outputs": [],
   "source": []
  }
 ],
 "metadata": {
  "kernelspec": {
   "display_name": "Python 3 (ipykernel)",
   "language": "python",
   "name": "python3"
  },
  "language_info": {
   "codemirror_mode": {
    "name": "ipython",
    "version": 3
   },
   "file_extension": ".py",
   "mimetype": "text/x-python",
   "name": "python",
   "nbconvert_exporter": "python",
   "pygments_lexer": "ipython3",
   "version": "3.11.5"
  }
 },
 "nbformat": 4,
 "nbformat_minor": 5
}
